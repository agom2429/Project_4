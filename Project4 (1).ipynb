{
  "cells": [
    {
      "cell_type": "code",
      "execution_count": 62,
      "metadata": {
        "id": "SfA7oFlST199"
      },
      "outputs": [],
      "source": [
        "# Import our dependencies\n",
        "from sklearn.model_selection import train_test_split\n",
        "from sklearn.preprocessing import StandardScaler\n",
        "import pandas as pd\n",
        "import tensorflow as tf\n",
        "from sklearn.linear_model import LogisticRegression\n",
        "from sklearn.svm import SVC\n",
        "from sklearn.metrics import accuracy_score, classification_report\n",
        "from sklearn.preprocessing import LabelEncoder\n",
        "from sklearn.metrics import precision_recall_fscore_support\n",
        "import numpy as np\n",
        "import matplotlib.pyplot as plt\n",
        "import seaborn as sns\n",
        "\n"
      ]
    },
    {
      "cell_type": "code",
      "execution_count": 63,
      "metadata": {
        "colab": {
          "base_uri": "https://localhost:8080/",
          "height": 327
        },
        "id": "mVWV-TivUAuj",
        "outputId": "fe6427f6-39bb-4956-d91a-763792bfed56"
      },
      "outputs": [
        {
          "data": {
            "text/html": [
              "<div>\n",
              "<style scoped>\n",
              "    .dataframe tbody tr th:only-of-type {\n",
              "        vertical-align: middle;\n",
              "    }\n",
              "\n",
              "    .dataframe tbody tr th {\n",
              "        vertical-align: top;\n",
              "    }\n",
              "\n",
              "    .dataframe thead th {\n",
              "        text-align: right;\n",
              "    }\n",
              "</style>\n",
              "<table border=\"1\" class=\"dataframe\">\n",
              "  <thead>\n",
              "    <tr style=\"text-align: right;\">\n",
              "      <th></th>\n",
              "      <th>Timestamp</th>\n",
              "      <th>Choose your gender</th>\n",
              "      <th>Age</th>\n",
              "      <th>What is your course?</th>\n",
              "      <th>Your current year of Study</th>\n",
              "      <th>What is your CGPA?</th>\n",
              "      <th>Marital status</th>\n",
              "      <th>Do you have Depression?</th>\n",
              "      <th>Do you have Anxiety?</th>\n",
              "      <th>Do you have Panic attack?</th>\n",
              "      <th>Did you seek any specialist for a treatment?</th>\n",
              "    </tr>\n",
              "  </thead>\n",
              "  <tbody>\n",
              "    <tr>\n",
              "      <th>0</th>\n",
              "      <td>8/7/2020 12:02</td>\n",
              "      <td>Female</td>\n",
              "      <td>18.0</td>\n",
              "      <td>Engineering</td>\n",
              "      <td>year 1</td>\n",
              "      <td>3.00 - 3.49</td>\n",
              "      <td>No</td>\n",
              "      <td>Yes</td>\n",
              "      <td>No</td>\n",
              "      <td>Yes</td>\n",
              "      <td>No</td>\n",
              "    </tr>\n",
              "    <tr>\n",
              "      <th>1</th>\n",
              "      <td>8/7/2020 12:04</td>\n",
              "      <td>Male</td>\n",
              "      <td>21.0</td>\n",
              "      <td>Islamic education</td>\n",
              "      <td>year 2</td>\n",
              "      <td>3.00 - 3.49</td>\n",
              "      <td>No</td>\n",
              "      <td>No</td>\n",
              "      <td>Yes</td>\n",
              "      <td>No</td>\n",
              "      <td>No</td>\n",
              "    </tr>\n",
              "    <tr>\n",
              "      <th>2</th>\n",
              "      <td>8/7/2020 12:05</td>\n",
              "      <td>Male</td>\n",
              "      <td>19.0</td>\n",
              "      <td>BIT</td>\n",
              "      <td>Year 1</td>\n",
              "      <td>3.00 - 3.49</td>\n",
              "      <td>No</td>\n",
              "      <td>Yes</td>\n",
              "      <td>Yes</td>\n",
              "      <td>Yes</td>\n",
              "      <td>No</td>\n",
              "    </tr>\n",
              "    <tr>\n",
              "      <th>3</th>\n",
              "      <td>8/7/2020 12:06</td>\n",
              "      <td>Female</td>\n",
              "      <td>22.0</td>\n",
              "      <td>Laws</td>\n",
              "      <td>year 3</td>\n",
              "      <td>3.00 - 3.49</td>\n",
              "      <td>Yes</td>\n",
              "      <td>Yes</td>\n",
              "      <td>No</td>\n",
              "      <td>No</td>\n",
              "      <td>No</td>\n",
              "    </tr>\n",
              "    <tr>\n",
              "      <th>4</th>\n",
              "      <td>8/7/2020 12:13</td>\n",
              "      <td>Male</td>\n",
              "      <td>23.0</td>\n",
              "      <td>Mathemathics</td>\n",
              "      <td>year 4</td>\n",
              "      <td>3.00 - 3.49</td>\n",
              "      <td>No</td>\n",
              "      <td>No</td>\n",
              "      <td>No</td>\n",
              "      <td>No</td>\n",
              "      <td>No</td>\n",
              "    </tr>\n",
              "  </tbody>\n",
              "</table>\n",
              "</div>"
            ],
            "text/plain": [
              "        Timestamp Choose your gender   Age What is your course?  \\\n",
              "0  8/7/2020 12:02             Female  18.0          Engineering   \n",
              "1  8/7/2020 12:04               Male  21.0    Islamic education   \n",
              "2  8/7/2020 12:05               Male  19.0                  BIT   \n",
              "3  8/7/2020 12:06             Female  22.0                 Laws   \n",
              "4  8/7/2020 12:13               Male  23.0         Mathemathics   \n",
              "\n",
              "  Your current year of Study What is your CGPA? Marital status  \\\n",
              "0                     year 1        3.00 - 3.49             No   \n",
              "1                     year 2        3.00 - 3.49             No   \n",
              "2                     Year 1        3.00 - 3.49             No   \n",
              "3                     year 3        3.00 - 3.49            Yes   \n",
              "4                     year 4        3.00 - 3.49             No   \n",
              "\n",
              "  Do you have Depression? Do you have Anxiety? Do you have Panic attack?  \\\n",
              "0                     Yes                   No                       Yes   \n",
              "1                      No                  Yes                        No   \n",
              "2                     Yes                  Yes                       Yes   \n",
              "3                     Yes                   No                        No   \n",
              "4                      No                   No                        No   \n",
              "\n",
              "  Did you seek any specialist for a treatment?  \n",
              "0                                           No  \n",
              "1                                           No  \n",
              "2                                           No  \n",
              "3                                           No  \n",
              "4                                           No  "
            ]
          },
          "execution_count": 63,
          "metadata": {},
          "output_type": "execute_result"
        }
      ],
      "source": [
        "#  Import and read the charity_data.csv.\n",
        "import pandas as pd\n",
        "mental_df = pd.read_csv(\"Student Mental health.csv\")\n",
        "mental_df.head()\n"
      ]
    },
    {
      "cell_type": "code",
      "execution_count": 64,
      "metadata": {
        "id": "OnWaiYfjXrpP"
      },
      "outputs": [],
      "source": [
        "# Rename the columns\n",
        "mental_df.columns = ['Timestamp','Gender','Age','Course','Year_of_Study','CGPA','Marital_Status','Depression','Anxiety','Panic_Atack','Treatment']"
      ]
    },
    {
      "cell_type": "code",
      "execution_count": 65,
      "metadata": {
        "colab": {
          "base_uri": "https://localhost:8080/",
          "height": 112
        },
        "id": "U2bQJOrpX7lg",
        "outputId": "bff10b6e-054c-43f3-dcf7-106f07f0d121"
      },
      "outputs": [
        {
          "data": {
            "text/html": [
              "<div>\n",
              "<style scoped>\n",
              "    .dataframe tbody tr th:only-of-type {\n",
              "        vertical-align: middle;\n",
              "    }\n",
              "\n",
              "    .dataframe tbody tr th {\n",
              "        vertical-align: top;\n",
              "    }\n",
              "\n",
              "    .dataframe thead th {\n",
              "        text-align: right;\n",
              "    }\n",
              "</style>\n",
              "<table border=\"1\" class=\"dataframe\">\n",
              "  <thead>\n",
              "    <tr style=\"text-align: right;\">\n",
              "      <th></th>\n",
              "      <th>Timestamp</th>\n",
              "      <th>Gender</th>\n",
              "      <th>Age</th>\n",
              "      <th>Course</th>\n",
              "      <th>Year_of_Study</th>\n",
              "      <th>CGPA</th>\n",
              "      <th>Marital_Status</th>\n",
              "      <th>Depression</th>\n",
              "      <th>Anxiety</th>\n",
              "      <th>Panic_Atack</th>\n",
              "      <th>Treatment</th>\n",
              "    </tr>\n",
              "  </thead>\n",
              "  <tbody>\n",
              "    <tr>\n",
              "      <th>0</th>\n",
              "      <td>8/7/2020 12:02</td>\n",
              "      <td>Female</td>\n",
              "      <td>18.0</td>\n",
              "      <td>Engineering</td>\n",
              "      <td>year 1</td>\n",
              "      <td>3.00 - 3.49</td>\n",
              "      <td>No</td>\n",
              "      <td>Yes</td>\n",
              "      <td>No</td>\n",
              "      <td>Yes</td>\n",
              "      <td>No</td>\n",
              "    </tr>\n",
              "    <tr>\n",
              "      <th>1</th>\n",
              "      <td>8/7/2020 12:04</td>\n",
              "      <td>Male</td>\n",
              "      <td>21.0</td>\n",
              "      <td>Islamic education</td>\n",
              "      <td>year 2</td>\n",
              "      <td>3.00 - 3.49</td>\n",
              "      <td>No</td>\n",
              "      <td>No</td>\n",
              "      <td>Yes</td>\n",
              "      <td>No</td>\n",
              "      <td>No</td>\n",
              "    </tr>\n",
              "  </tbody>\n",
              "</table>\n",
              "</div>"
            ],
            "text/plain": [
              "        Timestamp  Gender   Age             Course Year_of_Study         CGPA  \\\n",
              "0  8/7/2020 12:02  Female  18.0        Engineering        year 1  3.00 - 3.49   \n",
              "1  8/7/2020 12:04    Male  21.0  Islamic education        year 2  3.00 - 3.49   \n",
              "\n",
              "  Marital_Status Depression Anxiety Panic_Atack Treatment  \n",
              "0             No        Yes      No         Yes        No  \n",
              "1             No         No     Yes          No        No  "
            ]
          },
          "execution_count": 65,
          "metadata": {},
          "output_type": "execute_result"
        }
      ],
      "source": [
        "# Display data with new header names\n",
        "mental_df.head(2)"
      ]
    },
    {
      "cell_type": "code",
      "execution_count": 66,
      "metadata": {
        "colab": {
          "base_uri": "https://localhost:8080/",
          "height": 179
        },
        "id": "9p1bOSFSw9it",
        "outputId": "f6e8e20a-d5e2-4c3e-9cb6-79bff0f42254"
      },
      "outputs": [
        {
          "data": {
            "text/html": [
              "<div>\n",
              "<style scoped>\n",
              "    .dataframe tbody tr th:only-of-type {\n",
              "        vertical-align: middle;\n",
              "    }\n",
              "\n",
              "    .dataframe tbody tr th {\n",
              "        vertical-align: top;\n",
              "    }\n",
              "\n",
              "    .dataframe thead th {\n",
              "        text-align: right;\n",
              "    }\n",
              "</style>\n",
              "<table border=\"1\" class=\"dataframe\">\n",
              "  <thead>\n",
              "    <tr style=\"text-align: right;\">\n",
              "      <th></th>\n",
              "      <th>Age</th>\n",
              "      <th>Timestamp_13/07/2020 10:07:32</th>\n",
              "      <th>Timestamp_13/07/2020 10:10:30</th>\n",
              "      <th>Timestamp_13/07/2020 10:11:26</th>\n",
              "      <th>Timestamp_13/07/2020 10:12:18</th>\n",
              "      <th>Timestamp_13/07/2020 10:12:26</th>\n",
              "      <th>Timestamp_13/07/2020 10:12:28</th>\n",
              "      <th>Timestamp_13/07/2020 10:14:46</th>\n",
              "      <th>Timestamp_13/07/2020 10:33:47</th>\n",
              "      <th>Timestamp_13/07/2020 10:34:08</th>\n",
              "      <th>...</th>\n",
              "      <th>Marital_Status_No</th>\n",
              "      <th>Marital_Status_Yes</th>\n",
              "      <th>Depression_No</th>\n",
              "      <th>Depression_Yes</th>\n",
              "      <th>Anxiety_No</th>\n",
              "      <th>Anxiety_Yes</th>\n",
              "      <th>Panic_Atack_No</th>\n",
              "      <th>Panic_Atack_Yes</th>\n",
              "      <th>Treatment_No</th>\n",
              "      <th>Treatment_Yes</th>\n",
              "    </tr>\n",
              "  </thead>\n",
              "  <tbody>\n",
              "    <tr>\n",
              "      <th>0</th>\n",
              "      <td>18.0</td>\n",
              "      <td>0</td>\n",
              "      <td>0</td>\n",
              "      <td>0</td>\n",
              "      <td>0</td>\n",
              "      <td>0</td>\n",
              "      <td>0</td>\n",
              "      <td>0</td>\n",
              "      <td>0</td>\n",
              "      <td>0</td>\n",
              "      <td>...</td>\n",
              "      <td>1</td>\n",
              "      <td>0</td>\n",
              "      <td>0</td>\n",
              "      <td>1</td>\n",
              "      <td>1</td>\n",
              "      <td>0</td>\n",
              "      <td>0</td>\n",
              "      <td>1</td>\n",
              "      <td>1</td>\n",
              "      <td>0</td>\n",
              "    </tr>\n",
              "    <tr>\n",
              "      <th>1</th>\n",
              "      <td>21.0</td>\n",
              "      <td>0</td>\n",
              "      <td>0</td>\n",
              "      <td>0</td>\n",
              "      <td>0</td>\n",
              "      <td>0</td>\n",
              "      <td>0</td>\n",
              "      <td>0</td>\n",
              "      <td>0</td>\n",
              "      <td>0</td>\n",
              "      <td>...</td>\n",
              "      <td>1</td>\n",
              "      <td>0</td>\n",
              "      <td>1</td>\n",
              "      <td>0</td>\n",
              "      <td>0</td>\n",
              "      <td>1</td>\n",
              "      <td>1</td>\n",
              "      <td>0</td>\n",
              "      <td>1</td>\n",
              "      <td>0</td>\n",
              "    </tr>\n",
              "  </tbody>\n",
              "</table>\n",
              "<p>2 rows × 167 columns</p>\n",
              "</div>"
            ],
            "text/plain": [
              "    Age  Timestamp_13/07/2020 10:07:32  Timestamp_13/07/2020 10:10:30  \\\n",
              "0  18.0                              0                              0   \n",
              "1  21.0                              0                              0   \n",
              "\n",
              "   Timestamp_13/07/2020 10:11:26  Timestamp_13/07/2020 10:12:18  \\\n",
              "0                              0                              0   \n",
              "1                              0                              0   \n",
              "\n",
              "   Timestamp_13/07/2020 10:12:26  Timestamp_13/07/2020 10:12:28  \\\n",
              "0                              0                              0   \n",
              "1                              0                              0   \n",
              "\n",
              "   Timestamp_13/07/2020 10:14:46  Timestamp_13/07/2020 10:33:47  \\\n",
              "0                              0                              0   \n",
              "1                              0                              0   \n",
              "\n",
              "   Timestamp_13/07/2020 10:34:08  ...  Marital_Status_No  Marital_Status_Yes  \\\n",
              "0                              0  ...                  1                   0   \n",
              "1                              0  ...                  1                   0   \n",
              "\n",
              "   Depression_No  Depression_Yes  Anxiety_No  Anxiety_Yes  Panic_Atack_No  \\\n",
              "0              0               1           1            0               0   \n",
              "1              1               0           0            1               1   \n",
              "\n",
              "   Panic_Atack_Yes  Treatment_No  Treatment_Yes  \n",
              "0                1             1              0  \n",
              "1                0             1              0  \n",
              "\n",
              "[2 rows x 167 columns]"
            ]
          },
          "execution_count": 66,
          "metadata": {},
          "output_type": "execute_result"
        }
      ],
      "source": [
        "# Convert categorical data to numeric with `pd.get_dummies`\n",
        "A_df = pd.get_dummies(mental_df)\n",
        "A_df.head(2)"
      ]
    },
    {
      "cell_type": "code",
      "execution_count": 67,
      "metadata": {
        "colab": {
          "base_uri": "https://localhost:8080/"
        },
        "id": "e1__y30dasMW",
        "outputId": "5fc8bdec-1356-4718-ae26-55fd3b853e16"
      },
      "outputs": [
        {
          "data": {
            "text/plain": [
              "Timestamp         92\n",
              "Gender             2\n",
              "Age                7\n",
              "Course            49\n",
              "Year_of_Study      7\n",
              "CGPA               6\n",
              "Marital_Status     2\n",
              "Depression         2\n",
              "Anxiety            2\n",
              "Panic_Atack        2\n",
              "Treatment          2\n",
              "dtype: int64"
            ]
          },
          "execution_count": 67,
          "metadata": {},
          "output_type": "execute_result"
        }
      ],
      "source": [
        "# Determine the number of ubique variables\n",
        "mental_df.nunique()"
      ]
    },
    {
      "cell_type": "markdown",
      "metadata": {
        "id": "J1w37MZjpL07"
      },
      "source": [
        "Data Processing"
      ]
    },
    {
      "cell_type": "code",
      "execution_count": 68,
      "metadata": {
        "id": "sjrX5eSQpQwW"
      },
      "outputs": [],
      "source": [
        "mental_df['Age'].fillna(mental_df['Age'].median(),inplace=True)"
      ]
    },
    {
      "cell_type": "code",
      "execution_count": 69,
      "metadata": {
        "id": "feQjQZFmqEId"
      },
      "outputs": [],
      "source": [
        "mental_df['Year_of_Study'] = mental_df['Year_of_Study'].astype(str).str.extract('(\\d+)').astype(int)"
      ]
    },
    {
      "cell_type": "code",
      "execution_count": 70,
      "metadata": {
        "id": "FdeiNmBaqNOS"
      },
      "outputs": [],
      "source": [
        "mental_df['Timestamp'] = pd.to_datetime(mental_df['Timestamp'])"
      ]
    },
    {
      "cell_type": "code",
      "execution_count": 71,
      "metadata": {
        "id": "ir_nYdwyy--Q"
      },
      "outputs": [],
      "source": [
        "def calculate_cgpa(x):\n",
        "    if isinstance(x,str):\n",
        "        first,second=x.split('-')\n",
        "        return (float(first.strip())+float(second.strip()))/2\n",
        "    else:\n",
        "        return x\n",
        "mental_df['CGPA']=mental_df['CGPA'].apply(calculate_cgpa)"
      ]
    },
    {
      "cell_type": "code",
      "execution_count": 72,
      "metadata": {
        "colab": {
          "base_uri": "https://localhost:8080/",
          "height": 423
        },
        "id": "6WJLAwgIya_Q",
        "outputId": "f6bb7c19-9aa6-40d2-c7cc-eda496b8c556"
      },
      "outputs": [
        {
          "data": {
            "text/html": [
              "<div>\n",
              "<style scoped>\n",
              "    .dataframe tbody tr th:only-of-type {\n",
              "        vertical-align: middle;\n",
              "    }\n",
              "\n",
              "    .dataframe tbody tr th {\n",
              "        vertical-align: top;\n",
              "    }\n",
              "\n",
              "    .dataframe thead th {\n",
              "        text-align: right;\n",
              "    }\n",
              "</style>\n",
              "<table border=\"1\" class=\"dataframe\">\n",
              "  <thead>\n",
              "    <tr style=\"text-align: right;\">\n",
              "      <th></th>\n",
              "      <th>Timestamp</th>\n",
              "      <th>Gender</th>\n",
              "      <th>Age</th>\n",
              "      <th>Course</th>\n",
              "      <th>Year_of_Study</th>\n",
              "      <th>CGPA</th>\n",
              "      <th>Marital_Status</th>\n",
              "      <th>Depression</th>\n",
              "      <th>Anxiety</th>\n",
              "      <th>Panic_Atack</th>\n",
              "      <th>Treatment</th>\n",
              "    </tr>\n",
              "  </thead>\n",
              "  <tbody>\n",
              "    <tr>\n",
              "      <th>0</th>\n",
              "      <td>2020-08-07 12:02:00</td>\n",
              "      <td>0</td>\n",
              "      <td>18.0</td>\n",
              "      <td>Engineering</td>\n",
              "      <td>1</td>\n",
              "      <td>3.245</td>\n",
              "      <td>0</td>\n",
              "      <td>1</td>\n",
              "      <td>0</td>\n",
              "      <td>1</td>\n",
              "      <td>0</td>\n",
              "    </tr>\n",
              "    <tr>\n",
              "      <th>1</th>\n",
              "      <td>2020-08-07 12:04:00</td>\n",
              "      <td>1</td>\n",
              "      <td>21.0</td>\n",
              "      <td>Islamic education</td>\n",
              "      <td>2</td>\n",
              "      <td>3.245</td>\n",
              "      <td>0</td>\n",
              "      <td>0</td>\n",
              "      <td>1</td>\n",
              "      <td>0</td>\n",
              "      <td>0</td>\n",
              "    </tr>\n",
              "    <tr>\n",
              "      <th>2</th>\n",
              "      <td>2020-08-07 12:05:00</td>\n",
              "      <td>1</td>\n",
              "      <td>19.0</td>\n",
              "      <td>BIT</td>\n",
              "      <td>1</td>\n",
              "      <td>3.245</td>\n",
              "      <td>0</td>\n",
              "      <td>1</td>\n",
              "      <td>1</td>\n",
              "      <td>1</td>\n",
              "      <td>0</td>\n",
              "    </tr>\n",
              "    <tr>\n",
              "      <th>3</th>\n",
              "      <td>2020-08-07 12:06:00</td>\n",
              "      <td>0</td>\n",
              "      <td>22.0</td>\n",
              "      <td>Laws</td>\n",
              "      <td>3</td>\n",
              "      <td>3.245</td>\n",
              "      <td>1</td>\n",
              "      <td>1</td>\n",
              "      <td>0</td>\n",
              "      <td>0</td>\n",
              "      <td>0</td>\n",
              "    </tr>\n",
              "    <tr>\n",
              "      <th>4</th>\n",
              "      <td>2020-08-07 12:13:00</td>\n",
              "      <td>1</td>\n",
              "      <td>23.0</td>\n",
              "      <td>Mathemathics</td>\n",
              "      <td>4</td>\n",
              "      <td>3.245</td>\n",
              "      <td>0</td>\n",
              "      <td>0</td>\n",
              "      <td>0</td>\n",
              "      <td>0</td>\n",
              "      <td>0</td>\n",
              "    </tr>\n",
              "    <tr>\n",
              "      <th>...</th>\n",
              "      <td>...</td>\n",
              "      <td>...</td>\n",
              "      <td>...</td>\n",
              "      <td>...</td>\n",
              "      <td>...</td>\n",
              "      <td>...</td>\n",
              "      <td>...</td>\n",
              "      <td>...</td>\n",
              "      <td>...</td>\n",
              "      <td>...</td>\n",
              "      <td>...</td>\n",
              "    </tr>\n",
              "    <tr>\n",
              "      <th>96</th>\n",
              "      <td>2020-07-13 19:56:49</td>\n",
              "      <td>0</td>\n",
              "      <td>21.0</td>\n",
              "      <td>BCS</td>\n",
              "      <td>1</td>\n",
              "      <td>3.750</td>\n",
              "      <td>0</td>\n",
              "      <td>0</td>\n",
              "      <td>1</td>\n",
              "      <td>0</td>\n",
              "      <td>0</td>\n",
              "    </tr>\n",
              "    <tr>\n",
              "      <th>97</th>\n",
              "      <td>2020-07-13 21:21:42</td>\n",
              "      <td>1</td>\n",
              "      <td>18.0</td>\n",
              "      <td>Engineering</td>\n",
              "      <td>2</td>\n",
              "      <td>3.245</td>\n",
              "      <td>0</td>\n",
              "      <td>1</td>\n",
              "      <td>1</td>\n",
              "      <td>0</td>\n",
              "      <td>0</td>\n",
              "    </tr>\n",
              "    <tr>\n",
              "      <th>98</th>\n",
              "      <td>2020-07-13 21:22:56</td>\n",
              "      <td>0</td>\n",
              "      <td>19.0</td>\n",
              "      <td>Nursing</td>\n",
              "      <td>3</td>\n",
              "      <td>3.750</td>\n",
              "      <td>1</td>\n",
              "      <td>1</td>\n",
              "      <td>0</td>\n",
              "      <td>1</td>\n",
              "      <td>0</td>\n",
              "    </tr>\n",
              "    <tr>\n",
              "      <th>99</th>\n",
              "      <td>2020-07-13 21:23:57</td>\n",
              "      <td>0</td>\n",
              "      <td>23.0</td>\n",
              "      <td>Pendidikan Islam</td>\n",
              "      <td>4</td>\n",
              "      <td>3.750</td>\n",
              "      <td>0</td>\n",
              "      <td>0</td>\n",
              "      <td>0</td>\n",
              "      <td>0</td>\n",
              "      <td>0</td>\n",
              "    </tr>\n",
              "    <tr>\n",
              "      <th>100</th>\n",
              "      <td>2020-07-18 20:16:21</td>\n",
              "      <td>1</td>\n",
              "      <td>20.0</td>\n",
              "      <td>Biomedical science</td>\n",
              "      <td>2</td>\n",
              "      <td>3.245</td>\n",
              "      <td>0</td>\n",
              "      <td>0</td>\n",
              "      <td>0</td>\n",
              "      <td>0</td>\n",
              "      <td>0</td>\n",
              "    </tr>\n",
              "  </tbody>\n",
              "</table>\n",
              "<p>101 rows × 11 columns</p>\n",
              "</div>"
            ],
            "text/plain": [
              "              Timestamp  Gender   Age              Course  Year_of_Study  \\\n",
              "0   2020-08-07 12:02:00       0  18.0         Engineering              1   \n",
              "1   2020-08-07 12:04:00       1  21.0   Islamic education              2   \n",
              "2   2020-08-07 12:05:00       1  19.0                 BIT              1   \n",
              "3   2020-08-07 12:06:00       0  22.0                Laws              3   \n",
              "4   2020-08-07 12:13:00       1  23.0        Mathemathics              4   \n",
              "..                  ...     ...   ...                 ...            ...   \n",
              "96  2020-07-13 19:56:49       0  21.0                 BCS              1   \n",
              "97  2020-07-13 21:21:42       1  18.0         Engineering              2   \n",
              "98  2020-07-13 21:22:56       0  19.0            Nursing               3   \n",
              "99  2020-07-13 21:23:57       0  23.0    Pendidikan Islam              4   \n",
              "100 2020-07-18 20:16:21       1  20.0  Biomedical science              2   \n",
              "\n",
              "      CGPA  Marital_Status  Depression  Anxiety  Panic_Atack  Treatment  \n",
              "0    3.245               0           1        0            1          0  \n",
              "1    3.245               0           0        1            0          0  \n",
              "2    3.245               0           1        1            1          0  \n",
              "3    3.245               1           1        0            0          0  \n",
              "4    3.245               0           0        0            0          0  \n",
              "..     ...             ...         ...      ...          ...        ...  \n",
              "96   3.750               0           0        1            0          0  \n",
              "97   3.245               0           1        1            0          0  \n",
              "98   3.750               1           1        0            1          0  \n",
              "99   3.750               0           0        0            0          0  \n",
              "100  3.245               0           0        0            0          0  \n",
              "\n",
              "[101 rows x 11 columns]"
            ]
          },
          "execution_count": 72,
          "metadata": {},
          "output_type": "execute_result"
        }
      ],
      "source": [
        "le=LabelEncoder()\n",
        "cat_cols=['Gender','Marital_Status','Depression','Anxiety','Panic_Atack','Treatment']\n",
        "\n",
        "for col in cat_cols:\n",
        "    mental_df[col]=le.fit_transform(mental_df[col])\n",
        "mental_df"
      ]
    },
    {
      "cell_type": "code",
      "execution_count": 73,
      "metadata": {
        "colab": {
          "base_uri": "https://localhost:8080/",
          "height": 112
        },
        "id": "-2DG4broz0Il",
        "outputId": "c2f2ea42-bd16-4a03-a7ca-1b5ba3d206ff"
      },
      "outputs": [
        {
          "data": {
            "text/html": [
              "<div>\n",
              "<style scoped>\n",
              "    .dataframe tbody tr th:only-of-type {\n",
              "        vertical-align: middle;\n",
              "    }\n",
              "\n",
              "    .dataframe tbody tr th {\n",
              "        vertical-align: top;\n",
              "    }\n",
              "\n",
              "    .dataframe thead th {\n",
              "        text-align: right;\n",
              "    }\n",
              "</style>\n",
              "<table border=\"1\" class=\"dataframe\">\n",
              "  <thead>\n",
              "    <tr style=\"text-align: right;\">\n",
              "      <th></th>\n",
              "      <th>Gender</th>\n",
              "      <th>Age</th>\n",
              "      <th>Year_of_Study</th>\n",
              "      <th>CGPA</th>\n",
              "      <th>Marital_Status</th>\n",
              "      <th>Depression</th>\n",
              "      <th>Anxiety</th>\n",
              "      <th>Panic_Atack</th>\n",
              "      <th>Treatment</th>\n",
              "    </tr>\n",
              "  </thead>\n",
              "  <tbody>\n",
              "    <tr>\n",
              "      <th>0</th>\n",
              "      <td>0</td>\n",
              "      <td>18.0</td>\n",
              "      <td>1</td>\n",
              "      <td>3.245</td>\n",
              "      <td>0</td>\n",
              "      <td>1</td>\n",
              "      <td>0</td>\n",
              "      <td>1</td>\n",
              "      <td>0</td>\n",
              "    </tr>\n",
              "    <tr>\n",
              "      <th>1</th>\n",
              "      <td>1</td>\n",
              "      <td>21.0</td>\n",
              "      <td>2</td>\n",
              "      <td>3.245</td>\n",
              "      <td>0</td>\n",
              "      <td>0</td>\n",
              "      <td>1</td>\n",
              "      <td>0</td>\n",
              "      <td>0</td>\n",
              "    </tr>\n",
              "  </tbody>\n",
              "</table>\n",
              "</div>"
            ],
            "text/plain": [
              "   Gender   Age  Year_of_Study   CGPA  Marital_Status  Depression  Anxiety  \\\n",
              "0       0  18.0              1  3.245               0           1        0   \n",
              "1       1  21.0              2  3.245               0           0        1   \n",
              "\n",
              "   Panic_Atack  Treatment  \n",
              "0            1          0  \n",
              "1            0          0  "
            ]
          },
          "execution_count": 73,
          "metadata": {},
          "output_type": "execute_result"
        }
      ],
      "source": [
        "# Drop Timestamp and Course- this will have no impact on the model\n",
        "mental_clean_df = mental_df.drop(columns={\"Timestamp\", \"Course\"})\n",
        "mental_clean_df.head(2)"
      ]
    },
    {
      "cell_type": "code",
      "execution_count": 74,
      "metadata": {
        "id": "FviG81Dc0ac3"
      },
      "outputs": [],
      "source": [
        "# Split our preprocessed data into our features and target arrays\n",
        "x = mental_clean_df.drop(columns=['Depression']).values\n",
        "y = mental_clean_df['Depression'].values\n"
      ]
    },
    {
      "cell_type": "code",
      "execution_count": 75,
      "metadata": {
        "colab": {
          "base_uri": "https://localhost:8080/"
        },
        "id": "SnOZbv8X0nk0",
        "outputId": "7d396f76-9199-42df-8ebf-eb062d28cb8f"
      },
      "outputs": [
        {
          "data": {
            "text/plain": [
              "8"
            ]
          },
          "execution_count": 75,
          "metadata": {},
          "output_type": "execute_result"
        }
      ],
      "source": [
        "len(x[0])"
      ]
    },
    {
      "cell_type": "code",
      "execution_count": 76,
      "metadata": {
        "colab": {
          "base_uri": "https://localhost:8080/"
        },
        "id": "Tyr3jjq40tUo",
        "outputId": "ef102000-f8c6-47fa-e3bb-9b36f25e5e03"
      },
      "outputs": [
        {
          "data": {
            "text/plain": [
              "array([ 0.   , 18.   ,  1.   ,  3.245,  0.   ,  0.   ,  1.   ,  0.   ])"
            ]
          },
          "execution_count": 76,
          "metadata": {},
          "output_type": "execute_result"
        }
      ],
      "source": [
        "x[0]"
      ]
    },
    {
      "cell_type": "code",
      "execution_count": 77,
      "metadata": {
        "colab": {
          "base_uri": "https://localhost:8080/"
        },
        "id": "MaPnaKj_0yeI",
        "outputId": "33ff04d6-2abe-4012-b738-7ace4c132bc4"
      },
      "outputs": [
        {
          "data": {
            "text/plain": [
              "array([1, 0, 1, 1, 0, 0, 1, 0, 0, 0, 0, 1, 1, 0, 0, 0, 0, 1, 0, 1, 0, 0,\n",
              "       0, 0, 1, 0, 0, 1, 1, 0, 0, 0, 0, 1, 1, 0, 1, 1, 0, 1, 0, 0, 1, 0,\n",
              "       0, 0, 0, 0, 1, 0, 1, 0, 0, 1, 1, 0, 0, 1, 0, 0, 0, 0, 0, 0, 0, 1,\n",
              "       0, 1, 1, 0, 0, 0, 1, 0, 0, 0, 1, 0, 0, 0, 1, 0, 1, 0, 0, 1, 0, 1,\n",
              "       0, 0, 0, 0, 1, 1, 0, 0, 0, 1, 1, 0, 0])"
            ]
          },
          "execution_count": 77,
          "metadata": {},
          "output_type": "execute_result"
        }
      ],
      "source": [
        "y"
      ]
    },
    {
      "cell_type": "code",
      "execution_count": 78,
      "metadata": {
        "id": "z7duv5-W06rI"
      },
      "outputs": [],
      "source": [
        "# split into training and testing data\n",
        "x_train, x_test, y_train, y_test = train_test_split(x, y)\n",
        "\n"
      ]
    },
    {
      "cell_type": "code",
      "execution_count": 79,
      "metadata": {
        "colab": {
          "base_uri": "https://localhost:8080/"
        },
        "id": "u9i3pk0709m8",
        "outputId": "fc77f3d9-6753-4b07-97e3-346fa9782c91"
      },
      "outputs": [
        {
          "data": {
            "text/plain": [
              "8"
            ]
          },
          "execution_count": 79,
          "metadata": {},
          "output_type": "execute_result"
        }
      ],
      "source": [
        "len(x_train[0])"
      ]
    },
    {
      "cell_type": "code",
      "execution_count": 80,
      "metadata": {
        "colab": {
          "base_uri": "https://localhost:8080/"
        },
        "id": "ygMHdkud1Ksi",
        "outputId": "980e0952-a245-472b-f033-f776fc7c9a1a"
      },
      "outputs": [
        {
          "name": "stdout",
          "output_type": "stream",
          "text": [
            "[-0.52075564 -0.58142801 -0.91140749 -0.25019276 -0.45790547  1.33333333\n",
            "  1.22474487 -0.26726124]\n"
          ]
        }
      ],
      "source": [
        "# Create a StandardScaler instances\n",
        "scaler = StandardScaler()\n",
        "\n",
        "# Fit the StandardScaler\n",
        "x_scaler = scaler.fit(x_train)\n",
        "\n",
        "# Scale the data\n",
        "x_train_scaled = x_scaler.transform(x_train)\n",
        "x_test_scaled = x_scaler.transform(x_test)\n",
        "print(x_train_scaled[0])"
      ]
    },
    {
      "cell_type": "code",
      "execution_count": 81,
      "metadata": {
        "id": "QO7smR_y1O_F"
      },
      "outputs": [],
      "source": [
        "# Create a keras sequentila model\n",
        "nn_model = tf.keras.models.Sequential()\n"
      ]
    },
    {
      "cell_type": "code",
      "execution_count": 82,
      "metadata": {
        "id": "9m_RtIww1fJ-"
      },
      "outputs": [],
      "source": [
        "# Add first dense layer including the input layer (hidden layer)\n",
        "nn_model.add(tf.keras.layers.Dense(units=5, activation=\"relu\", input_dim =8))\n",
        "nn_model.add(tf.keras.layers.Dense(units=5, activation=\"relu\"))\n"
      ]
    },
    {
      "cell_type": "code",
      "execution_count": 83,
      "metadata": {
        "id": "pvvsqEhU1spJ"
      },
      "outputs": [],
      "source": [
        "# output layer\n",
        "nn_model.add(tf.keras.layers.Dense(units=1, activation=\"sigmoid\"))\n"
      ]
    },
    {
      "cell_type": "code",
      "execution_count": 84,
      "metadata": {
        "colab": {
          "base_uri": "https://localhost:8080/"
        },
        "id": "tnYtDViB1v12",
        "outputId": "51918e58-b7db-4d03-d37a-8fba9297360c"
      },
      "outputs": [
        {
          "name": "stdout",
          "output_type": "stream",
          "text": [
            "Model: \"sequential_2\"\n",
            "_________________________________________________________________\n",
            " Layer (type)                Output Shape              Param #   \n",
            "=================================================================\n",
            " dense_6 (Dense)             (None, 5)                 45        \n",
            "                                                                 \n",
            " dense_7 (Dense)             (None, 5)                 30        \n",
            "                                                                 \n",
            " dense_8 (Dense)             (None, 1)                 6         \n",
            "                                                                 \n",
            "=================================================================\n",
            "Total params: 81 (324.00 Byte)\n",
            "Trainable params: 81 (324.00 Byte)\n",
            "Non-trainable params: 0 (0.00 Byte)\n",
            "_________________________________________________________________\n"
          ]
        }
      ],
      "source": [
        "# Check the structure of the model\n",
        "nn_model.summary()\n"
      ]
    },
    {
      "cell_type": "code",
      "execution_count": 85,
      "metadata": {
        "id": "GGLJrQgsujc9"
      },
      "outputs": [],
      "source": [
        "# Compile the model\n",
        "nn_model.compile(loss='binary_crossentropy', optimizer='adam', metrics=['accuracy'])\n"
      ]
    },
    {
      "cell_type": "code",
      "execution_count": 86,
      "metadata": {
        "colab": {
          "base_uri": "https://localhost:8080/"
        },
        "id": "bBM6JVTU46OP",
        "outputId": "30ecdada-d02c-4930-8996-9dda5f0d5e32"
      },
      "outputs": [
        {
          "name": "stdout",
          "output_type": "stream",
          "text": [
            "Epoch 1/100\n",
            "3/3 [==============================] - 1s 9ms/step - loss: 0.6837 - accuracy: 0.6133\n",
            "Epoch 2/100\n",
            "3/3 [==============================] - 0s 6ms/step - loss: 0.6800 - accuracy: 0.6267\n",
            "Epoch 3/100\n",
            "3/3 [==============================] - 0s 7ms/step - loss: 0.6764 - accuracy: 0.6400\n",
            "Epoch 4/100\n",
            "3/3 [==============================] - 0s 6ms/step - loss: 0.6732 - accuracy: 0.6533\n",
            "Epoch 5/100\n",
            "3/3 [==============================] - 0s 6ms/step - loss: 0.6702 - accuracy: 0.6800\n",
            "Epoch 6/100\n",
            "3/3 [==============================] - 0s 9ms/step - loss: 0.6672 - accuracy: 0.6933\n",
            "Epoch 7/100\n",
            "3/3 [==============================] - 0s 10ms/step - loss: 0.6642 - accuracy: 0.6933\n",
            "Epoch 8/100\n",
            "3/3 [==============================] - 0s 8ms/step - loss: 0.6614 - accuracy: 0.6933\n",
            "Epoch 9/100\n",
            "3/3 [==============================] - 0s 5ms/step - loss: 0.6585 - accuracy: 0.6800\n",
            "Epoch 10/100\n",
            "3/3 [==============================] - 0s 5ms/step - loss: 0.6559 - accuracy: 0.6800\n",
            "Epoch 11/100\n",
            "3/3 [==============================] - 0s 7ms/step - loss: 0.6530 - accuracy: 0.6800\n",
            "Epoch 12/100\n",
            "3/3 [==============================] - 0s 6ms/step - loss: 0.6497 - accuracy: 0.6800\n",
            "Epoch 13/100\n",
            "3/3 [==============================] - 0s 7ms/step - loss: 0.6467 - accuracy: 0.6800\n",
            "Epoch 14/100\n",
            "3/3 [==============================] - 0s 9ms/step - loss: 0.6437 - accuracy: 0.6800\n",
            "Epoch 15/100\n",
            "3/3 [==============================] - 0s 7ms/step - loss: 0.6407 - accuracy: 0.6800\n",
            "Epoch 16/100\n",
            "3/3 [==============================] - 0s 5ms/step - loss: 0.6378 - accuracy: 0.6800\n",
            "Epoch 17/100\n",
            "3/3 [==============================] - 0s 7ms/step - loss: 0.6346 - accuracy: 0.6800\n",
            "Epoch 18/100\n",
            "3/3 [==============================] - 0s 6ms/step - loss: 0.6312 - accuracy: 0.6800\n",
            "Epoch 19/100\n",
            "3/3 [==============================] - 0s 6ms/step - loss: 0.6282 - accuracy: 0.6800\n",
            "Epoch 20/100\n",
            "3/3 [==============================] - 0s 5ms/step - loss: 0.6251 - accuracy: 0.6800\n",
            "Epoch 21/100\n",
            "3/3 [==============================] - 0s 7ms/step - loss: 0.6214 - accuracy: 0.6800\n",
            "Epoch 22/100\n",
            "3/3 [==============================] - 0s 6ms/step - loss: 0.6178 - accuracy: 0.6800\n",
            "Epoch 23/100\n",
            "3/3 [==============================] - 0s 7ms/step - loss: 0.6143 - accuracy: 0.6800\n",
            "Epoch 24/100\n",
            "3/3 [==============================] - 0s 6ms/step - loss: 0.6107 - accuracy: 0.6800\n",
            "Epoch 25/100\n",
            "3/3 [==============================] - 0s 6ms/step - loss: 0.6074 - accuracy: 0.6800\n",
            "Epoch 26/100\n",
            "3/3 [==============================] - 0s 5ms/step - loss: 0.6038 - accuracy: 0.6800\n",
            "Epoch 27/100\n",
            "3/3 [==============================] - 0s 7ms/step - loss: 0.6004 - accuracy: 0.7067\n",
            "Epoch 28/100\n",
            "3/3 [==============================] - 0s 6ms/step - loss: 0.5971 - accuracy: 0.7067\n",
            "Epoch 29/100\n",
            "3/3 [==============================] - 0s 8ms/step - loss: 0.5933 - accuracy: 0.7067\n",
            "Epoch 30/100\n",
            "3/3 [==============================] - 0s 9ms/step - loss: 0.5898 - accuracy: 0.7067\n",
            "Epoch 31/100\n",
            "3/3 [==============================] - 0s 7ms/step - loss: 0.5866 - accuracy: 0.7067\n",
            "Epoch 32/100\n",
            "3/3 [==============================] - 0s 6ms/step - loss: 0.5833 - accuracy: 0.7067\n",
            "Epoch 33/100\n",
            "3/3 [==============================] - 0s 7ms/step - loss: 0.5800 - accuracy: 0.7067\n",
            "Epoch 34/100\n",
            "3/3 [==============================] - 0s 8ms/step - loss: 0.5767 - accuracy: 0.7067\n",
            "Epoch 35/100\n",
            "3/3 [==============================] - 0s 6ms/step - loss: 0.5736 - accuracy: 0.7067\n",
            "Epoch 36/100\n",
            "3/3 [==============================] - 0s 7ms/step - loss: 0.5706 - accuracy: 0.7067\n",
            "Epoch 37/100\n",
            "3/3 [==============================] - 0s 11ms/step - loss: 0.5672 - accuracy: 0.7067\n",
            "Epoch 38/100\n",
            "3/3 [==============================] - 0s 7ms/step - loss: 0.5641 - accuracy: 0.7067\n",
            "Epoch 39/100\n",
            "3/3 [==============================] - 0s 7ms/step - loss: 0.5605 - accuracy: 0.7067\n",
            "Epoch 40/100\n",
            "3/3 [==============================] - 0s 6ms/step - loss: 0.5574 - accuracy: 0.7067\n",
            "Epoch 41/100\n",
            "3/3 [==============================] - 0s 14ms/step - loss: 0.5540 - accuracy: 0.7067\n",
            "Epoch 42/100\n",
            "3/3 [==============================] - 0s 12ms/step - loss: 0.5506 - accuracy: 0.7200\n",
            "Epoch 43/100\n",
            "3/3 [==============================] - 0s 8ms/step - loss: 0.5465 - accuracy: 0.7200\n",
            "Epoch 44/100\n",
            "3/3 [==============================] - 0s 8ms/step - loss: 0.5430 - accuracy: 0.7200\n",
            "Epoch 45/100\n",
            "3/3 [==============================] - 0s 7ms/step - loss: 0.5395 - accuracy: 0.7200\n",
            "Epoch 46/100\n",
            "3/3 [==============================] - 0s 6ms/step - loss: 0.5358 - accuracy: 0.7200\n",
            "Epoch 47/100\n",
            "3/3 [==============================] - 0s 7ms/step - loss: 0.5322 - accuracy: 0.7200\n",
            "Epoch 48/100\n",
            "3/3 [==============================] - 0s 7ms/step - loss: 0.5286 - accuracy: 0.7200\n",
            "Epoch 49/100\n",
            "3/3 [==============================] - 0s 6ms/step - loss: 0.5247 - accuracy: 0.7200\n",
            "Epoch 50/100\n",
            "3/3 [==============================] - 0s 8ms/step - loss: 0.5211 - accuracy: 0.7200\n",
            "Epoch 51/100\n",
            "3/3 [==============================] - 0s 7ms/step - loss: 0.5178 - accuracy: 0.7200\n",
            "Epoch 52/100\n",
            "3/3 [==============================] - 0s 7ms/step - loss: 0.5142 - accuracy: 0.7200\n",
            "Epoch 53/100\n",
            "3/3 [==============================] - 0s 7ms/step - loss: 0.5108 - accuracy: 0.7200\n",
            "Epoch 54/100\n",
            "3/3 [==============================] - 0s 8ms/step - loss: 0.5075 - accuracy: 0.7333\n",
            "Epoch 55/100\n",
            "3/3 [==============================] - 0s 7ms/step - loss: 0.5036 - accuracy: 0.7333\n",
            "Epoch 56/100\n",
            "3/3 [==============================] - 0s 6ms/step - loss: 0.5006 - accuracy: 0.7333\n",
            "Epoch 57/100\n",
            "3/3 [==============================] - 0s 7ms/step - loss: 0.4969 - accuracy: 0.7467\n",
            "Epoch 58/100\n",
            "3/3 [==============================] - 0s 7ms/step - loss: 0.4936 - accuracy: 0.7733\n",
            "Epoch 59/100\n",
            "3/3 [==============================] - 0s 6ms/step - loss: 0.4905 - accuracy: 0.7733\n",
            "Epoch 60/100\n",
            "3/3 [==============================] - 0s 7ms/step - loss: 0.4871 - accuracy: 0.7733\n",
            "Epoch 61/100\n",
            "3/3 [==============================] - 0s 5ms/step - loss: 0.4841 - accuracy: 0.7733\n",
            "Epoch 62/100\n",
            "3/3 [==============================] - 0s 5ms/step - loss: 0.4811 - accuracy: 0.7733\n",
            "Epoch 63/100\n",
            "3/3 [==============================] - 0s 6ms/step - loss: 0.4780 - accuracy: 0.7733\n",
            "Epoch 64/100\n",
            "3/3 [==============================] - 0s 5ms/step - loss: 0.4748 - accuracy: 0.7733\n",
            "Epoch 65/100\n",
            "3/3 [==============================] - 0s 7ms/step - loss: 0.4716 - accuracy: 0.7733\n",
            "Epoch 66/100\n",
            "3/3 [==============================] - 0s 5ms/step - loss: 0.4687 - accuracy: 0.7733\n",
            "Epoch 67/100\n",
            "3/3 [==============================] - 0s 6ms/step - loss: 0.4655 - accuracy: 0.7733\n",
            "Epoch 68/100\n",
            "3/3 [==============================] - 0s 6ms/step - loss: 0.4621 - accuracy: 0.7733\n",
            "Epoch 69/100\n",
            "3/3 [==============================] - 0s 7ms/step - loss: 0.4594 - accuracy: 0.7867\n",
            "Epoch 70/100\n",
            "3/3 [==============================] - 0s 7ms/step - loss: 0.4560 - accuracy: 0.7867\n",
            "Epoch 71/100\n",
            "3/3 [==============================] - 0s 6ms/step - loss: 0.4532 - accuracy: 0.7867\n",
            "Epoch 72/100\n",
            "3/3 [==============================] - 0s 7ms/step - loss: 0.4505 - accuracy: 0.7867\n",
            "Epoch 73/100\n",
            "3/3 [==============================] - 0s 8ms/step - loss: 0.4475 - accuracy: 0.7867\n",
            "Epoch 74/100\n",
            "3/3 [==============================] - 0s 7ms/step - loss: 0.4446 - accuracy: 0.7867\n",
            "Epoch 75/100\n",
            "3/3 [==============================] - 0s 7ms/step - loss: 0.4414 - accuracy: 0.7867\n",
            "Epoch 76/100\n",
            "3/3 [==============================] - 0s 6ms/step - loss: 0.4385 - accuracy: 0.7867\n",
            "Epoch 77/100\n",
            "3/3 [==============================] - 0s 7ms/step - loss: 0.4358 - accuracy: 0.8000\n",
            "Epoch 78/100\n",
            "3/3 [==============================] - 0s 7ms/step - loss: 0.4330 - accuracy: 0.8000\n",
            "Epoch 79/100\n",
            "3/3 [==============================] - 0s 7ms/step - loss: 0.4302 - accuracy: 0.8000\n",
            "Epoch 80/100\n",
            "3/3 [==============================] - 0s 6ms/step - loss: 0.4274 - accuracy: 0.8000\n",
            "Epoch 81/100\n",
            "3/3 [==============================] - 0s 7ms/step - loss: 0.4248 - accuracy: 0.8000\n",
            "Epoch 82/100\n",
            "3/3 [==============================] - 0s 7ms/step - loss: 0.4224 - accuracy: 0.8000\n",
            "Epoch 83/100\n",
            "3/3 [==============================] - 0s 8ms/step - loss: 0.4198 - accuracy: 0.8000\n",
            "Epoch 84/100\n",
            "3/3 [==============================] - 0s 7ms/step - loss: 0.4172 - accuracy: 0.8133\n",
            "Epoch 85/100\n",
            "3/3 [==============================] - 0s 7ms/step - loss: 0.4146 - accuracy: 0.8133\n",
            "Epoch 86/100\n",
            "3/3 [==============================] - 0s 6ms/step - loss: 0.4123 - accuracy: 0.8133\n",
            "Epoch 87/100\n",
            "3/3 [==============================] - 0s 7ms/step - loss: 0.4096 - accuracy: 0.8133\n",
            "Epoch 88/100\n",
            "3/3 [==============================] - 0s 7ms/step - loss: 0.4073 - accuracy: 0.8133\n",
            "Epoch 89/100\n",
            "3/3 [==============================] - 0s 7ms/step - loss: 0.4047 - accuracy: 0.8133\n",
            "Epoch 90/100\n",
            "3/3 [==============================] - 0s 7ms/step - loss: 0.4024 - accuracy: 0.8133\n",
            "Epoch 91/100\n",
            "3/3 [==============================] - 0s 7ms/step - loss: 0.3998 - accuracy: 0.8133\n",
            "Epoch 92/100\n",
            "3/3 [==============================] - 0s 12ms/step - loss: 0.3974 - accuracy: 0.8133\n",
            "Epoch 93/100\n",
            "3/3 [==============================] - 0s 7ms/step - loss: 0.3949 - accuracy: 0.8133\n",
            "Epoch 94/100\n",
            "3/3 [==============================] - 0s 8ms/step - loss: 0.3928 - accuracy: 0.8133\n",
            "Epoch 95/100\n",
            "3/3 [==============================] - 0s 7ms/step - loss: 0.3902 - accuracy: 0.8133\n",
            "Epoch 96/100\n",
            "3/3 [==============================] - 0s 12ms/step - loss: 0.3881 - accuracy: 0.8133\n",
            "Epoch 97/100\n",
            "3/3 [==============================] - 0s 7ms/step - loss: 0.3856 - accuracy: 0.8267\n",
            "Epoch 98/100\n",
            "3/3 [==============================] - 0s 6ms/step - loss: 0.3836 - accuracy: 0.8267\n",
            "Epoch 99/100\n",
            "3/3 [==============================] - 0s 7ms/step - loss: 0.3812 - accuracy: 0.8267\n",
            "Epoch 100/100\n",
            "3/3 [==============================] - 0s 7ms/step - loss: 0.3793 - accuracy: 0.8267\n"
          ]
        }
      ],
      "source": [
        "# Train the model\n",
        "fit_model = nn_model.fit(x_train_scaled, y_train, epochs=100)"
      ]
    },
    {
      "cell_type": "code",
      "execution_count": 87,
      "metadata": {
        "colab": {
          "base_uri": "https://localhost:8080/"
        },
        "id": "zmBdOUnY5N1L",
        "outputId": "05ab144a-458d-4122-a880-a2e888750e53"
      },
      "outputs": [
        {
          "name": "stdout",
          "output_type": "stream",
          "text": [
            "1/1 - 0s - loss: 0.4548 - accuracy: 0.7692 - 256ms/epoch - 256ms/step\n",
            "Loss: 0.45478102564811707, Accuracy: 0.7692307829856873\n"
          ]
        }
      ],
      "source": [
        "# Evaluate the model using the test data\n",
        "model_loss, model_accuracy = nn_model.evaluate(x_test_scaled,y_test,verbose=2)\n",
        "print(f\"Loss: {model_loss}, Accuracy: {model_accuracy}\")"
      ]
    },
    {
      "cell_type": "code",
      "execution_count": 88,
      "metadata": {},
      "outputs": [
        {
          "data": {
            "image/png": "[encoded data removed]",
            "text/plain": [
              "<Figure size 1000x600 with 1 Axes>"
            ]
          },
          "metadata": {},
          "output_type": "display_data"
        },
        {
          "data": {
            "image/png": "[encoded data removed]",
            "text/plain": [
              "<Figure size 800x600 with 1 Axes>"
            ]
          },
          "metadata": {},
          "output_type": "display_data"
        }
      ],
      "source": [
        "import matplotlib.pyplot as plt\n",
        "import seaborn as sns\n",
        "\n",
        "predicted_probabilities = [0.3, 0.8, 0.2, 0.6, 0.9]\n",
        "treatment_status = [0, 1, 0, 1, 0]  # 0: No Treatment, 1: Received Treatment\n",
        "\n",
        "ages = [22, 25, 19, 30, 35]\n",
        "\n",
        "# Create a bar chart for the prevalence of depression across age groups\n",
        "plt.figure(figsize=(10, 6))\n",
        "sns.barplot(x=ages, y=predicted_probabilities, hue=treatment_status, palette=\"viridis\")\n",
        "plt.title('Depression Probability Across Age Groups')\n",
        "plt.xlabel('Age')\n",
        "plt.ylabel('Depression Probability')\n",
        "plt.legend(title='Treatment Status', loc='upper left', labels=['No Treatment', 'Received Treatment'])\n",
        "plt.show()\n",
        "\n",
        "# Create a stacked bar chart for the relationship between depression and treatment\n",
        "treatment_counts = [sum(1 for status in treatment_status if status == 0),\n",
        "                    sum(1 for status in treatment_status if status == 1)]\n",
        "\n",
        "no_treatment_counts = [sum(1 for (status, prob) in zip(treatment_status, predicted_probabilities) if status == 0 and prob >= 0.5),\n",
        "                       sum(1 for (status, prob) in zip(treatment_status, predicted_probabilities) if status == 0 and prob < 0.5)]\n",
        "\n",
        "received_treatment_counts = [sum(1 for (status, prob) in zip(treatment_status, predicted_probabilities) if status == 1 and prob >= 0.5),\n",
        "                              sum(1 for (status, prob) in zip(treatment_status, predicted_probabilities) if status == 1 and prob < 0.5)]\n",
        "\n",
        "labels = ['No Treatment', 'Received Treatment']\n",
        "plt.figure(figsize=(8, 6))\n",
        "plt.bar(labels, no_treatment_counts, color='skyblue', label='Depression')\n",
        "plt.bar(labels, received_treatment_counts, bottom=no_treatment_counts, color='salmon', label='No Depression')\n",
        "plt.title('Depression and Treatment Relationship')\n",
        "plt.xlabel('Treatment Status')\n",
        "plt.ylabel('Count')\n",
        "plt.legend()\n",
        "plt.show()\n"
      ]
    },
    {
      "cell_type": "code",
      "execution_count": 91,
      "metadata": {},
      "outputs": [
        {
          "data": {
            "text/plain": [
              "Text(0.5, 1.0, 'CGPA Distribution')"
            ]
          },
          "execution_count": 91,
          "metadata": {},
          "output_type": "execute_result"
        },
        {
          "data": {
            "image/png": "[encoded data removed]",
            "text/plain": [
              "<Figure size 640x480 with 1 Axes>"
            ]
          },
          "metadata": {},
          "output_type": "display_data"
        }
      ],
      "source": [
        "sns.histplot(mental_df[\"CGPA\"].sort_values(), kde = True)\n",
        "plt.xlabel(\"CGPA Range\")\n",
        "plt.ylabel(\"Students\")\n",
        "plt.title(\"CGPA Distribution\")"
      ]
    },
    {
      "cell_type": "code",
      "execution_count": 95,
      "metadata": {},
      "outputs": [
        {
          "data": {
            "image/png": "[encoded data removed]",
            "text/plain": [
              "<Figure size 640x480 with 1 Axes>"
            ]
          },
          "metadata": {},
          "output_type": "display_data"
        }
      ],
      "source": [
        "depressed_students_df = mental_df[mental_df['Depression'] == 1]\n",
        "\n",
        "sns.histplot(depressed_students_df[\"CGPA\"].sort_values(), kde=True)\n",
        "plt.xlabel(\"CGPA Range\")\n",
        "plt.ylabel(\"Students\")\n",
        "plt.title(\"CGPA Distribution Students with Depressions\")\n",
        "plt.xticks([1.0,1.5,2.0,2.5,3.0,3.5])\n",
        "plt.yticks([5, 10, 15, 20])\n",
        "plt.show()\n"
      ]
    }
  ],
  "metadata": {
    "colab": {
      "provenance": []
    },
    "kernelspec": {
      "display_name": "Python 3",
      "name": "python3"
    },
    "language_info": {
      "codemirror_mode": {
        "name": "ipython",
        "version": 3
      },
      "file_extension": ".py",
      "mimetype": "text/x-python",
      "name": "python",
      "nbconvert_exporter": "python",
      "pygments_lexer": "ipython3",
      "version": "3.10.12"
    }
  },
  "nbformat": 4,
  "nbformat_minor": 0
}
